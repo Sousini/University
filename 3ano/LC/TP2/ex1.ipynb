{
 "cells": [
  {
   "cell_type": "code",
   "execution_count": 1,
   "metadata": {},
   "outputs": [],
   "source": [
    "from z3 import *"
   ]
  },
  {
   "cell_type": "code",
   "execution_count": 2,
   "metadata": {},
   "outputs": [],
   "source": [
    "# Função para criar um LFSR com tamanho `n` e constante de feedback `s`\n",
    "def create_lfsr(n, feedback_constant):\n",
    "    # Cria um vetor de bits de tamanho `n` para representar o estado do LFSR\n",
    "    state = BitVec('state', n)\n",
    "    \n",
    "    # Define o bit de saída e o próximo estado usando XOR e shift\n",
    "    next_state = (state << 1) ^ feedback_constant\n",
    "    output_bit = Extract(n-1, n-1, state)  # Pega o bit mais significativo\n",
    "    \n",
    "    return state, next_state, output_bit\n"
   ]
  },
  {
   "cell_type": "code",
   "execution_count": 3,
   "metadata": {},
   "outputs": [],
   "source": [
    "# Constantes de feedback dos três LFSRs\n",
    "s0 = 0b1110010000000000000   # Para LFSR de 19 bits\n",
    "s1 = 0b1100000000000000000000 # Para LFSR de 22 bits\n",
    "s2 = 0b11100000000010000000000 # Para LFSR de 23 bits\n",
    "\n",
    "# Inicializando os LFSRs\n",
    "state0, next_state0, output0 = create_lfsr(19, s0)\n",
    "state1, next_state1, output1 = create_lfsr(22, s1)\n",
    "state2, next_state2, output2 = create_lfsr(23, s2)\n"
   ]
  },
  {
   "cell_type": "code",
   "execution_count": 4,
   "metadata": {},
   "outputs": [],
   "source": [
    "# Função para pegar o clocking bit\n",
    "def get_clocking_bit(state, bit_position):\n",
    "    return Extract(bit_position, bit_position, state)  # Extrai o bit da posição específica\n"
   ]
  },
  {
   "cell_type": "code",
   "execution_count": 5,
   "metadata": {},
   "outputs": [],
   "source": [
    "clock_bit0 = get_clocking_bit(state0, 8)\n",
    "clock_bit1 = get_clocking_bit(state1, 10)\n",
    "clock_bit2 = get_clocking_bit(state2, 10)\n"
   ]
  },
  {
   "cell_type": "code",
   "execution_count": 6,
   "metadata": {},
   "outputs": [],
   "source": [
    "# Regra de controle usando o \"clocking bit\" de cada LFSR\n",
    "c0 = Or(clock_bit0 == clock_bit1, clock_bit0 == clock_bit2)\n",
    "c1 = Or(clock_bit1 == clock_bit0, clock_bit1 == clock_bit2)\n",
    "c2 = Or(clock_bit2 == clock_bit0, clock_bit2 == clock_bit1)\n"
   ]
  },
  {
   "cell_type": "code",
   "execution_count": 7,
   "metadata": {},
   "outputs": [],
   "source": [
    "# Calcula o bit de chave a partir dos bits de saída dos LFSRs\n",
    "key_bit = output0 ^ output1 ^ output2\n"
   ]
  },
  {
   "cell_type": "code",
   "execution_count": null,
   "metadata": {},
   "outputs": [],
   "source": [
    "# Função para avançar o estado do LFSR condicionalmente\n",
    "def advance_lfsr(state, next_state, control_bit):\n",
    "    # Se o bit de controle for 1, avançamos o estado\n",
    "    return If(control_bit == 1, next_state, state)\n"
   ]
  },
  {
   "cell_type": "code",
   "execution_count": null,
   "metadata": {},
   "outputs": [],
   "source": [
    "# Avançando o estado de cada LFSR de acordo com os bits de controle\n",
    "new_state0 = advance_lfsr(state0, next_state0, c0)\n",
    "new_state1 = advance_lfsr(state1, next_state1, c1)\n",
    "new_state2 = advance_lfsr(state2, next_state2, c2)\n"
   ]
  }
 ],
 "metadata": {
  "kernelspec": {
   "display_name": "base",
   "language": "python",
   "name": "python3"
  },
  "language_info": {
   "codemirror_mode": {
    "name": "ipython",
    "version": 3
   },
   "file_extension": ".py",
   "mimetype": "text/x-python",
   "name": "python",
   "nbconvert_exporter": "python",
   "pygments_lexer": "ipython3",
   "version": "3.12.4"
  }
 },
 "nbformat": 4,
 "nbformat_minor": 2
}
