{
 "cells": [
  {
   "cell_type": "markdown",
   "metadata": {},
   "source": [
    "# Lógica Computacional 24/25\n",
    "\n",
    "**Grupo 09**\n",
    "\n",
    "- João Afonso Almeida Sousa (A102462)\n",
    "- Rafael Cunha Costa (A102526)"
   ]
  },
  {
   "cell_type": "markdown",
   "metadata": {},
   "source": [
    "Um  programa imperativo pode ser descrito por um modelo do tipo Control Flow Automaton (CFA) como a seguir se indica."
   ]
  },
  {
   "cell_type": "markdown",
   "metadata": {},
   "source": [
    "<img src=\"J0oAAOLw.png\" width=\"500\" />"
   ]
  },
  {
   "cell_type": "markdown",
   "metadata": {},
   "source": [
    "## Pretende-se:\n",
    "\n",
    "Construir um SFOTS, usando BitVec’s de tamanho $n$ , que descreva o comportamento deste autómato; para isso identifique e codifique em Z3  ou pySMT, as variáveis do modelo, o estado inicial , a relação de transição e o estado de erro.\n",
    "\n",
    "\n",
    "Usando $k$-indução verifique nesse SFOTS se a propriedade $\\;(x*y + z = a*b)\\;$ é um invariante do seu comportamento.\n",
    "\n",
    "Usando $k$-indução no FOTS acima e adicionando ao estado inicial  a condição  $\\,(a < 2^{n/2})\\land(b < 2^{n/2})\\,$, verifique a segurança do programa; nomeadamente  prove que, com tal estado inicial, o estado de erro nunca é acessível.  "
   ]
  },
  {
   "cell_type": "markdown",
   "metadata": {},
   "source": [
    "## Inicialização\n",
    "\n"
   ]
  },
  {
   "cell_type": "code",
   "execution_count": 130,
   "metadata": {},
   "outputs": [],
   "source": [
    "from z3 import *"
   ]
  },
  {
   "cell_type": "markdown",
   "metadata": {},
   "source": [
    "## Definição das variáveis do modelo\n",
    "\n",
    "A primeira função define as variáveis de estado para o nosso modelo, usando BitVec e Int para representar as variáveis do autômato e o ponteiro de controlo (pc). Além disso, define as variáveis x, y, z, que são as variáveis do programa."
   ]
  },
  {
   "cell_type": "code",
   "execution_count": 131,
   "metadata": {},
   "outputs": [],
   "source": [
    "def declare(i, n):\n",
    "    state = {}\n",
    "    state['pc'] = Int('pc'+str(i))\n",
    "    state['x'] = BitVec('x'+str(i), n)\n",
    "    state['y'] = BitVec('y'+str(i), n)\n",
    "    state['z'] = BitVec('z'+str(i), n)\n",
    "\n",
    "\n",
    "    return state"
   ]
  },
  {
   "cell_type": "markdown",
   "metadata": {},
   "source": [
    "## Definição do Estado Inicial\n",
    "\n",
    "A função *init* define o estado inicial do programa no autômato. Ela configura as variáveis de estado da seguinte forma:\n",
    "\n",
    "- **pc** (ponteiro de controlo) é definido como `0`, indicando o ponto de partida.\n",
    "- **x**, **y**, e **z** são as variáveis do programa:\n",
    "  - **x** é inicializado com o valor de `a`.\n",
    "  - **y** é inicializado com o valor de `b`.\n",
    "  - **z** é inicializado como `0`, pois ele acumulará o resultado da multiplicação.\n",
    "\n",
    "A função também garante que os valores iniciais de `a` e `b` sejam menores que $2^n / 2^2n$, para evitar problemas de overflow durante a execução do programa.\n"
   ]
  },
  {
   "cell_type": "code",
   "execution_count": 132,
   "metadata": {},
   "outputs": [],
   "source": [
    "def init(state, a, b):\n",
    "    return And(state['pc']== 0, state['x'] == a, state['y'] == b, state['z'] == 0)\n"
   ]
  },
  {
   "cell_type": "markdown",
   "metadata": {},
   "source": [
    "## Definição da relação de transição\n",
    "\n",
    "A função *trans* define as transições possíveis entre estados no modelo do autômato. A transição depende do valor do ponteiro de controlo `(pc)`, que determina qual operação será realizada com as variáveis `x`, `y` e `z`."
   ]
  },
  {
   "cell_type": "code",
   "execution_count": 133,
   "metadata": {},
   "outputs": [],
   "source": [
    "def trans(curr, prox, n):\n",
    "    same_values = And(\n",
    "        prox['x'] == curr['x'],\n",
    "        prox['y'] == curr['y'],\n",
    "        prox['z'] == curr['z']    \n",
    "    )\n",
    "    \n",
    "    t0 = And(\n",
    "        curr['pc'] == 0,\n",
    "        prox['pc'] == 1,\n",
    "        same_values\n",
    "    )\n",
    "    \n",
    "    # y = 0\n",
    "    t1 = And(\n",
    "        curr['y'] == 0,\n",
    "        curr['pc'] == 1,\n",
    "        prox['pc'] == 5,\n",
    "        same_values\n",
    "    )\n",
    "    \n",
    "    # y != 0 ^ odd(y)\n",
    "    t2 = And(\n",
    "        curr['y'] != 0,\n",
    "        URem(curr['y'], 2) == 1,\n",
    "        curr['pc'] == 1,\n",
    "        prox['pc'] == 2,\n",
    "        same_values\n",
    "    )\n",
    "    \n",
    "    #Q2 -> Q1\n",
    "    t5 = And(\n",
    "        curr['pc'] == 2,\n",
    "        prox['pc'] == 1,\n",
    "        prox['x'] == curr['x'],\n",
    "        prox['y'] == curr['y']-1,\n",
    "        prox['z'] == curr['z'] + curr['x']\n",
    "    )\n",
    "    \n",
    "    # y != 0 ^ even(y)\n",
    "    t3 = And(\n",
    "        curr['y'] != 0,\n",
    "        URem(curr['y'], 2) == 0,\n",
    "        curr['pc'] == 1,\n",
    "        prox['pc'] == 3,\n",
    "        same_values\n",
    "    )\n",
    "\n",
    "\n",
    "    # transição em que o solver decide se vai para o estado de overflow ou se continua\n",
    "    decider = And(\n",
    "        prox['x'] == curr['x'] << BitVecVal(1, n),\n",
    "        prox['y'] == curr['y'] >> BitVecVal(1, n),\n",
    "        prox['z'] == curr['z'],\n",
    "        \n",
    "        curr['pc'] == 3,\n",
    "        \n",
    "        Or(\n",
    "            And(UGT(curr['x'], BitVecVal(2**(n-1), n)), prox['pc'] == 1),  # curr['x'] < 2^(n-1)  - não há overflow\n",
    "            And(ULT(curr['x']  >> BitVecVal(1, n), curr['x']), prox['pc'] == 4),  # curr['x'] >= 2^(n-1) - há overflow\n",
    "        )\n",
    "    )\n",
    "    \n",
    "    \n",
    "    # caso de paragem no overflow e no estado final\n",
    "    stop_case = And(\n",
    "        prox['pc'] == curr['pc'],\n",
    "        same_values,\n",
    "        \n",
    "        Or(\n",
    "            And(curr['pc'] == 4, prox['pc'] == 4),\n",
    "            And(curr['pc'] == 5, prox['pc'] == 5)\n",
    "        )\n",
    "    )\n",
    "    \n",
    "    \n",
    "    return Or(t0, t1, t2, t3, t5, stop_case, decider)"
   ]
  },
  {
   "cell_type": "markdown",
   "metadata": {},
   "source": [
    "## Geração de um traço (sequência de estados)\n",
    "\n",
    "A função *gera_traco* gera um traço (sequência de estados) de k passos. A função também adiciona o estado inicial e as transições entre os estados para verificar o comportamento do autômato ao longo dos passos."
   ]
  },
  {
   "cell_type": "code",
   "execution_count": 134,
   "metadata": {},
   "outputs": [
    {
     "name": "stdout",
     "output_type": "stream",
     "text": [
      "Passo  0\n",
      "pc = 0\n",
      "x = 150\n",
      "y = 2\n",
      "z = 0\n",
      "----------------\n",
      "Passo  1\n",
      "pc = 1\n",
      "x = 150\n",
      "y = 2\n",
      "z = 0\n",
      "----------------\n",
      "Passo  2\n",
      "pc = 3\n",
      "x = 150\n",
      "y = 2\n",
      "z = 0\n",
      "----------------\n",
      "Passo  3\n",
      "pc = 1\n",
      "x = 44\n",
      "y = 1\n",
      "z = 0\n",
      "----------------\n",
      "Passo  4\n",
      "pc = 2\n",
      "x = 44\n",
      "y = 1\n",
      "z = 0\n",
      "----------------\n",
      "Passo  5\n",
      "pc = 1\n",
      "x = 44\n",
      "y = 0\n",
      "z = 44\n",
      "----------------\n",
      "Passo  6\n",
      "pc = 5\n",
      "x = 44\n",
      "y = 0\n",
      "z = 44\n",
      "----------------\n",
      "Passo  7\n",
      "pc = 5\n",
      "x = 44\n",
      "y = 0\n",
      "z = 44\n",
      "----------------\n",
      "Passo  8\n",
      "pc = 5\n",
      "x = 44\n",
      "y = 0\n",
      "z = 44\n",
      "----------------\n",
      "Passo  9\n",
      "pc = 5\n",
      "x = 44\n",
      "y = 0\n",
      "z = 44\n",
      "----------------\n",
      "Passo  10\n",
      "pc = 5\n",
      "x = 44\n",
      "y = 0\n",
      "z = 44\n",
      "----------------\n",
      "Passo  11\n",
      "pc = 5\n",
      "x = 44\n",
      "y = 0\n",
      "z = 44\n",
      "----------------\n",
      "Passo  12\n",
      "pc = 5\n",
      "x = 44\n",
      "y = 0\n",
      "z = 44\n",
      "----------------\n",
      "Passo  13\n",
      "pc = 5\n",
      "x = 44\n",
      "y = 0\n",
      "z = 44\n",
      "----------------\n",
      "Passo  14\n",
      "pc = 5\n",
      "x = 44\n",
      "y = 0\n",
      "z = 44\n",
      "----------------\n",
      "Passo  15\n",
      "pc = 5\n",
      "x = 44\n",
      "y = 0\n",
      "z = 44\n",
      "----------------\n",
      "Passo  16\n",
      "pc = 5\n",
      "x = 44\n",
      "y = 0\n",
      "z = 44\n",
      "----------------\n",
      "Passo  17\n",
      "pc = 5\n",
      "x = 44\n",
      "y = 0\n",
      "z = 44\n",
      "----------------\n",
      "Passo  18\n",
      "pc = 5\n",
      "x = 44\n",
      "y = 0\n",
      "z = 44\n",
      "----------------\n",
      "Passo  19\n",
      "pc = 5\n",
      "x = 44\n",
      "y = 0\n",
      "z = 44\n",
      "----------------\n"
     ]
    }
   ],
   "source": [
    "def gera_traco(declare,init,trans,k, n, a, b):\n",
    "\n",
    "    s = Solver()\n",
    "    \n",
    "    \n",
    "    trace = [declare(i, n) for i in range(k)]\n",
    "\n",
    "    # adicionar o estado inicial\n",
    "    s.add(init(trace[0],a,b))\n",
    "    \n",
    "    # adicionar as transições\n",
    "    for i in range(k - 1):\n",
    "        s.add(trans(trace[i], trace[i+1], n))\n",
    "    \n",
    "    \n",
    "    check = s.check()\n",
    "    if check == sat:\n",
    "        m = s.model()\n",
    "        #print(m)\n",
    "        #print(trace[i])\n",
    "        for i in range(k):\n",
    "            print(\"Passo \", i)\n",
    "            for v in trace[i]:\n",
    "                \n",
    "                print(v, \"=\", m[trace[i][v]])\n",
    "            print(\"----------------\")\n",
    "    else:\n",
    "        print(check)\n",
    "                \n",
    "gera_traco(declare,init,trans,20, 8, 150, 2)\n"
   ]
  },
  {
   "cell_type": "markdown",
   "metadata": {},
   "source": [
    "## Definição do Invariante\n",
    "\n",
    "O invariante nonnegative que queremos verificar é a propriedade de que $x * y + z == a * b$, ou seja, queremos garantir que essa relação se mantenha durante a execução do programa."
   ]
  },
  {
   "cell_type": "code",
   "execution_count": 135,
   "metadata": {},
   "outputs": [],
   "source": [
    "# Definir o invariante nonnegative como (x * y + z == a * b)\n",
    "def nonnegative(state, a, b):\n",
    "    return state['x'] * state['y'] + state['z'] == a * b"
   ]
  },
  {
   "cell_type": "markdown",
   "metadata": {},
   "source": [
    "## Função de k-indução\n",
    "\n",
    "A função *kinduction_always* realiza a verificação de *k-indução*, onde verificamos que a propriedade *inv* (invariante) se mantém ao longo de *k* estados. Primeiro, verificamos o caso base e, em seguida, usamos indução para garantir que a propriedade seja válida para o próximo estado."
   ]
  },
  {
   "cell_type": "code",
   "execution_count": 136,
   "metadata": {},
   "outputs": [],
   "source": [
    "def kinduction_always(declare, init, trans, inv, k, n, a_val, b_val):\n",
    "    solver = Solver()\n",
    "    \n",
    "    # Passo Base: Verificar que a propriedade se mantém para os primeiros k estados\n",
    "    trace = [declare(i, n) for i in range(k)]\n",
    "    a = BitVecVal(a_val, n)\n",
    "    b = BitVecVal(b_val, n)\n",
    "    \n",
    "    solver.add(init(trace[0], a, b))\n",
    "    \n",
    "    for i in range(k - 1):\n",
    "        solver.add(trans(trace[i], trace[i + 1], n))\n",
    "        \n",
    "    for i in range(k):\n",
    "        solver.push()\n",
    "        solver.add(Not(inv(trace[i], a, b)))  # Verificar se o inv é falso em algum estado\n",
    "        if solver.check() == sat:\n",
    "            print(\"> O invariante não se verifica nos k estados iniciais.\")\n",
    "            for j in range(k):\n",
    "                print(f\"> Estado {j}: x = {solver.model()[trace[j]['x']]}, y = {solver.model()[trace[j]['y']]}, z = {solver.model()[trace[j]['z']]}, pc = {solver.model()[trace[j]['pc']]}\")\n",
    "            return\n",
    "        solver.pop()\n",
    "\n",
    "    # Passo Indutivo: Se inv se verifica para os k estados, então deve valer no próximo (k+1)-ésimo estado\n",
    "    extended_trace = [declare(i, n) for i in range(k + 1)]\n",
    "    \n",
    "    solver.add(init(extended_trace[0], a, b))\n",
    "\n",
    "    for i in range(k):\n",
    "        solver.add(inv(extended_trace[i], a, b))\n",
    "        solver.add(trans(extended_trace[i], extended_trace[i + 1], n))\n",
    "    \n",
    "    solver.add(Not(inv(extended_trace[-1], a, b)))\n",
    "    \n",
    "    if solver.check() == sat:\n",
    "        print(\"> O passo indutivo não se verifica.\")\n",
    "        for i in range(k + 1):\n",
    "            print(f\"> Estado {i}: x = {solver.model()[extended_trace[i]['x']]}, y = {solver.model()[extended_trace[i]['y']]}, z = {solver.model()[extended_trace[i]['z']]}, pc = {solver.model()[extended_trace[i]['pc']]}\")\n",
    "        return\n",
    "    \n",
    "    print(f\"> A propriedade verifica-se por k-indução (k={k}).\")\n",
    "\n"
   ]
  },
  {
   "cell_type": "markdown",
   "metadata": {},
   "source": [
    "## Verificar a propriedade\n",
    "Chamamos a função *kinduction_always* para verificar a propriedade com *k-indução*. \n",
    "Neste caso, estamos a verificar a propriedade para k=10 passos e n=8 bits, com a = 7 e b = 4."
   ]
  },
  {
   "cell_type": "code",
   "execution_count": 137,
   "metadata": {},
   "outputs": [
    {
     "name": "stdout",
     "output_type": "stream",
     "text": [
      "> A propriedade verifica-se por k-indução (k=10).\n"
     ]
    }
   ],
   "source": [
    "# Chamada para verificar a propriedade com k-indução\n",
    "kinduction_always(declare, init, trans, nonnegative, 10, 8, 7, 4)"
   ]
  },
  {
   "cell_type": "code",
   "execution_count": 138,
   "metadata": {},
   "outputs": [
    {
     "name": "stdout",
     "output_type": "stream",
     "text": [
      "> A propriedade verifica-se por k-indução (k=6).\n"
     ]
    }
   ],
   "source": [
    "kinduction_always(declare, init, trans, nonnegative, 6, 8, 10, 3)"
   ]
  },
  {
   "cell_type": "code",
   "execution_count": 139,
   "metadata": {},
   "outputs": [
    {
     "name": "stdout",
     "output_type": "stream",
     "text": [
      "> A propriedade verifica-se por k-indução (k=13).\n"
     ]
    }
   ],
   "source": [
    "kinduction_always(declare, init, trans, nonnegative, 13, 8, 5, 8)"
   ]
  }
 ],
 "metadata": {
  "kernelspec": {
   "display_name": "Python 3 (ipykernel)",
   "language": "python",
   "name": "python3"
  },
  "language_info": {
   "codemirror_mode": {
    "name": "ipython",
    "version": 3
   },
   "file_extension": ".py",
   "mimetype": "text/x-python",
   "name": "python",
   "nbconvert_exporter": "python",
   "pygments_lexer": "ipython3",
   "version": "3.12.4"
  }
 },
 "nbformat": 4,
 "nbformat_minor": 4
}
