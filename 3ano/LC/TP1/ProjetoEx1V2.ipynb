{
 "cells": [
  {
   "cell_type": "markdown",
   "metadata": {},
   "source": [
    "# Lógica Computacional 24/25\n",
    "\n",
    "**Grupo 09**\n",
    "\n",
    "- João Afonso Almeida Sousa (A102462)\n",
    "- Rafael Cunha Costa (A102526)\n"
   ]
  },
  {
   "cell_type": "markdown",
   "metadata": {},
   "source": [
    "# Inicialização\n",
    "\n",
    "Para a resolução destes exercícios usamos a biblioteca Python Z3Py que criou uma interface para o Z3.\n",
    "\n",
    "\n"
   ]
  },
  {
   "cell_type": "code",
   "execution_count": 18,
   "metadata": {},
   "outputs": [],
   "source": [
    "from z3 import Solver, Int, Or, And, sat, AtLeast"
   ]
  },
  {
   "cell_type": "markdown",
   "metadata": {},
   "source": [
    "# Problema 1: Horário de uma \"StartUp\"\n",
    "\n",
    "1. Pretende-se construir um horário semanal para o plano de reuniões de projeto de uma StartUp de acordo com as seguintes condições:\n",
    "\n",
    "    a. Cada reunião ocupa uma sala (enumeradas $1...S$) durante um slot (tempo, dia). Assume-se os dias enumerados $1..D$ e, em cada dia, os tempos enumerados $1..T$.\n",
    "\n",
    "    b. Cada reunião tem associado um projeto (enumerados $1..P$) e um conjunto de participantes. Os diferentes colaboradores são enumerados $1..C$.\n",
    "\n",
    "    c. Cada projeto tem associado um conjunto de colaboradores, dos quais um  é o líder. Cada projeto realiza um dado número de reuniões semanais. São “inputs” do problema o conjunto de colaboradores de cada projeto, o seu líder e o número de reuniões semanais.\n",
    "\n",
    "    d. O líder do projeto participa em todas as reuniões do seu projeto; os restantes colaboradores podem ou não participar consoante a sua disponibilidade, num mínimo (“quorum”) de  $50\\%$ do total de colaboradores do projeto.  A disponibilidade de cada participante, incluindo o lider,  é um conjunto de “slots” (“inputs” do problema). "
   ]
  },
  {
   "cell_type": "markdown",
   "metadata": {},
   "source": [
    "**Análise do problema**\n",
    "\n",
    "Para criarmos um horário como foi pedido necessitamos de estabelecer certas restrições."
   ]
  },
  {
   "cell_type": "markdown",
   "metadata": {},
   "source": [
    "\n",
    "**Condições**\n",
    "\n",
    "Para a criação do horário, estabelecemos as seguintes condições que verificam a coerência do mesmo:\n",
    "\n",
    "1. **Validade dos Dias, Tempos e Salas**:\n",
    "$$\n",
    "1 \\leq \\text{dia}_{p,i} \\leq D\n",
    "$$\n",
    "\n",
    "$$\n",
    "1 \\leq \\text{tempo}_{p,i} \\leq T\n",
    "$$\n",
    "\n",
    "$$\n",
    "1 \\leq \\text{sala}_{p,i} \\leq S\n",
    "$$\n",
    "\n",
    "2. **Disponibilidade do Líder**:\n",
    "    O líder do projeto \\( p \\) deve estar disponível no slot (dia, tempo) da reunião \\( i\n",
    "    $$\n",
    "    \\bigvee_{(d,t) \\in \\text{disponibilidade}_{\\text{líder}_p}} (\\text{dia}_{p,i} = d \\land \\text{tempo}_{p,i} = t)\n",
    "    $$\n",
    "\n",
    "\n",
    "3. **Quorum de Colaboradores**:\n",
    "    Pelo menos 50% dos colaboradores do projeto \\( p \\) devem estar disponíveis no slot (dia, tempo) da reunião \\( i \\):\n",
    "    $$\n",
    "    \\text{quorum} = \\left\\lfloor \\frac{\\text{número de colaboradores}_p}{2} \\right\\rfloor\n",
    "    $$\n",
    "\n",
    "    $$\n",
    "    \\text{AtLeast}(\\text{disponível}_{\\text{colab}_1}, \\text{disponível}_{\\text{colab}_2}, \\ldots, \\text{disponível}_{\\text{colab}_n}, \\text{quorum})\n",
    "    $$\n",
    "\n",
    "    onde:\n",
    "\n",
    "    $$\n",
    "    \\text{disponível}_{\\text{colab}_j} = \\bigvee_{(d,t) \\in \\text{disponibilidade}_{\\text{colab}_j}} (\\text{dia}_{p,i} = d \\land \\text{tempo}_{p,i} = t)\n",
    "    $$\n",
    "\n"
   ]
  },
  {
   "cell_type": "markdown",
   "metadata": {},
   "source": [
    "# Implementação:"
   ]
  },
  {
   "cell_type": "markdown",
   "metadata": {},
   "source": [
    "**Criação de testes:**"
   ]
  },
  {
   "cell_type": "code",
   "execution_count": 20,
   "metadata": {},
   "outputs": [],
   "source": [
    "S = 3  #Número de salas\n",
    "D = 5  #Número de dias\n",
    "T = 4  #Número de tempos por dia\n",
    "P = 2  #Número de projetos\n",
    "C = 6  #Número total de colaboradores"
   ]
  },
  {
   "cell_type": "code",
   "execution_count": 21,
   "metadata": {},
   "outputs": [],
   "source": [
    "#Projetos existentes\n",
    "projetos = {\n",
    "    0: {'lider': 1, 'colaboradores': [1, 2], 'nReunioesPorSemana': 2},\n",
    "    1: {'lider': 4, 'colaboradores': [4, 5], 'nReunioesPorSemana': 2}\n",
    "}"
   ]
  },
  {
   "cell_type": "code",
   "execution_count": 22,
   "metadata": {},
   "outputs": [],
   "source": [
    "#Disponibilidade dos colaboradores\n",
    "#nDoColaborador: [(dia,tempo)]\n",
    "disponibilidade = {\n",
    "    1: [(1, 1), (2, 2), (3,1)],\n",
    "    2: [(1, 1), (2,2), (3, 1)],\n",
    "    3: [(1, 1), (3, 2)],\n",
    "    4: [(2, 2), (4, 3), (3,2)],\n",
    "    5: [(1, 1), (3, 2), (2,2)],\n",
    "    6: [(3, 1), (4, 2)]\n",
    "}"
   ]
  },
  {
   "cell_type": "markdown",
   "metadata": {},
   "source": [
    "**Implementação do solver e restrições:**"
   ]
  },
  {
   "cell_type": "code",
   "execution_count": 19,
   "metadata": {},
   "outputs": [],
   "source": [
    "solver = Solver()"
   ]
  },
  {
   "cell_type": "code",
   "execution_count": 23,
   "metadata": {},
   "outputs": [],
   "source": [
    "#Para cada projeto, criar variaveis para o dia, tempo e sala de cada reunião\n",
    "reunioes = {}\n",
    "for p in range(P):\n",
    "    reunioes[p] = [(Int(f\"dia_{p}_{i}\"), Int(f\"tempo_{p}_{i}\"), Int(f\"sala_{p}_{i}\")) for i in range(projetos[p]['nReunioesPorSemana'])]"
   ]
  },
  {
   "cell_type": "code",
   "execution_count": 24,
   "metadata": {},
   "outputs": [],
   "source": [
    "#Restrições\n",
    "for p in range(P):\n",
    "    for i in range(projetos[p]['nReunioesPorSemana']):\n",
    "        #Dias, tempos e salas têm de ser válidos\n",
    "        dia, tempo, sala = reunioes[p][i]\n",
    "        solver.add(And(dia >= 1, dia <= D))\n",
    "        solver.add(And(tempo >= 1, tempo <= T))\n",
    "        solver.add(And(sala >= 1, sala <= S))\n",
    "\n",
    "        #O líder do projeto tem de estar disponível\n",
    "        lider = projetos[p]['lider']\n",
    "        #O slot (dia,tempo) tem de coincidir com pelo menos 1 disponibilidade do líder\n",
    "        solver.add(Or([And(dia == d, tempo == t) for (d, t) in disponibilidade[lider]]))\n",
    "\n",
    "        #50% dos colaboradores têm de estar disponíveis\n",
    "        colaboradores = projetos[p]['colaboradores']\n",
    "        quorum = len(colaboradores) // 2\n",
    "        #Filtrar colaboradores com pelo menos 1 disponibilidade no slot escolhido\n",
    "        disponiveis = [Or([And(dia == d, tempo == t) for (d, t) in disponibilidade[colab]]) for colab in colaboradores]\n",
    "        solver.add(AtLeast(*disponiveis, quorum))"
   ]
  },
  {
   "cell_type": "code",
   "execution_count": 25,
   "metadata": {},
   "outputs": [
    {
     "name": "stdout",
     "output_type": "stream",
     "text": [
      "Projeto 0 (líder: 1, colaboradores: [1, 2]):\n",
      "  Reunião 1: Dia 2, Tempo 2, Sala 1\n",
      "    Participantes: [1, 2]\n",
      "  Reunião 2: Dia 3, Tempo 1, Sala 1\n",
      "    Participantes: [1, 2]\n",
      "Projeto 1 (líder: 4, colaboradores: [4, 5]):\n",
      "  Reunião 1: Dia 4, Tempo 3, Sala 1\n",
      "    Participantes: [4]\n",
      "  Reunião 2: Dia 3, Tempo 2, Sala 1\n",
      "    Participantes: [4, 5]\n"
     ]
    }
   ],
   "source": [
    "#Verificar a solução\n",
    "if solver.check() == sat:\n",
    "    model = solver.model()\n",
    "    for p in range(P):\n",
    "        lider = projetos[p]['lider']\n",
    "        colaboradores = projetos[p]['colaboradores']\n",
    "        print(f\"Projeto {p} (líder: {lider}, colaboradores: {colaboradores}):\")\n",
    "        \n",
    "        for i in range(projetos[p]['nReunioesPorSemana']):\n",
    "            dia = model[reunioes[p][i][0]]\n",
    "            tempo = model[reunioes[p][i][1]]\n",
    "            sala = model[reunioes[p][i][2]]\n",
    "            print(f\"  Reunião {i+1}: Dia {dia}, Tempo {tempo}, Sala {sala}\")\n",
    "            \n",
    "            #Imprimir o número dos participantes da reunião\n",
    "            participantes = []\n",
    "            \n",
    "            #Verificar quem participa e imprimir o número\n",
    "            for colaborador in colaboradores:\n",
    "                disponibilidade_colab = disponibilidade[colaborador]\n",
    "                if any(dia == d and tempo == t for (d, t) in disponibilidade_colab):\n",
    "                    participantes.append(colaborador)\n",
    "            \n",
    "            print(f\"    Participantes: {participantes}\")\n",
    "else:\n",
    "    print(\"Solução não encontrada!!\")"
   ]
  }
 ],
 "metadata": {
  "kernelspec": {
   "display_name": "Python 3 (ipykernel)",
   "language": "python",
   "name": "python3"
  },
  "language_info": {
   "codemirror_mode": {
    "name": "ipython",
    "version": 3
   },
   "file_extension": ".py",
   "mimetype": "text/x-python",
   "name": "python",
   "nbconvert_exporter": "python",
   "pygments_lexer": "ipython3",
   "version": "3.12.4"
  }
 },
 "nbformat": 4,
 "nbformat_minor": 4
}
