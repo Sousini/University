{
 "cells": [
  {
   "cell_type": "markdown",
   "id": "7f55c1d7-c136-48c4-87b6-176f37e18e87",
   "metadata": {
    "jp-MarkdownHeadingCollapsed": true
   },
   "source": [
    "# Lógica Computacional 24/25\n",
    "\n",
    "**Grupo 09**\n",
    "\n",
    "- João Afonso Almeida Sousa (A102462)\n",
    "- Rafael Cunha Costa (A102526)\n",
    "  "
   ]
  },
  {
   "cell_type": "markdown",
   "id": "564172c0-54c1-4246-a4de-f681f5096440",
   "metadata": {
    "jp-MarkdownHeadingCollapsed": true
   },
   "source": [
    "# Problema 1\n",
    "\n",
    "O algoritmo estendido de Euclides (EXA) aceita dois inteiros constantes  $$\\,a,b>0\\,$$  e devolve inteiros $$r,s,t\\,$$ tais que  $$\\,a*s + b*t = r\\,$$  e  $$\\,r = \\gcd(a,b)\\,$$. \n",
    "\n",
    "    Para além das variáveis r,s,t o código requer 3 variáveis adicionais r',s',t' que representam os valores de r,s,t no “próximo estado”.\n",
    "    \n",
    "    INPUT  a, b\n",
    "    assume  a > 0 and b > 0\n",
    "    r, r', s, s', t, t' = a, b, 1, 0, 0, 1\n",
    "    while r' != 0\n",
    "      q = r div r'\n",
    "      r, r', s, s', t, t' = r', r − q × r', s', s − q × s', t', t − q × t' \n",
    "    OUTPUT r, s, t\n",
    "    \n",
    "\n",
    "\n",
    "    1. Construa um SFOTS usando BitVector’s de tamanho n que descreva o comportamento deste programa.  Considere estado de erro quando r=0 ou alguma das variáveis atinge o “overflow”.\n",
    "    2. Prove, usando a metodologia dos invariantes e interpolantes, que o modelo nunca atinge o estado de erro.\n"
   ]
  },
  {
   "cell_type": "markdown",
   "id": "c30c315a-2216-4d5e-a1a5-e2b11d6eac71",
   "metadata": {},
   "source": [
    "# Inicialização\n",
    "\n",
    "Para resolver os problemas de satisfação de restrições, usamos o Z3py, uma biblioteca Python\n",
    "que cria uma interface para o Z3, um solver SMT.\n",
    "Para instalar o Z3py, basta correr o seguinte comando:"
   ]
  },
  {
   "cell_type": "code",
   "execution_count": null,
   "id": "d8d8e41e-43ff-4ef4-818b-dcc99d3bef74",
   "metadata": {},
   "outputs": [],
   "source": [
    "pip install z3-solver"
   ]
  },
  {
   "cell_type": "code",
   "execution_count": 1,
   "id": "628f0e43-7bfb-4f2f-ae2a-d3a431510693",
   "metadata": {},
   "outputs": [],
   "source": [
    "from z3 import *"
   ]
  },
  {
   "cell_type": "markdown",
   "id": "82ea2095-8c83-444c-b56c-a0d5328c9c9c",
   "metadata": {},
   "source": [
    "# Declaração dos BitVecs"
   ]
  },
  {
   "cell_type": "code",
   "execution_count": 2,
   "id": "fc9edbcb-c6ee-4c74-9a77-95d6568d2741",
   "metadata": {},
   "outputs": [],
   "source": [
    "n = 32  # Tamanho dos BitVectors\n",
    "a = BitVec('a', n)\n",
    "b = BitVec('b', n)\n",
    "r = BitVec('r', n)\n",
    "rline = BitVec('rline', n)\n",
    "s = BitVec('s', n)\n",
    "sline = BitVec('sline', n)\n",
    "t = BitVec('t', n)\n",
    "tline = BitVec('tline', n)"
   ]
  },
  {
   "cell_type": "code",
   "execution_count": 3,
   "id": "eb6a8441-1ddc-4519-b510-a4132efc3957",
   "metadata": {},
   "outputs": [],
   "source": [
    "# Variáveis do proximo estado\n",
    "r_next = BitVec('r_next', n)\n",
    "rline_next = BitVec('rline_next', n)\n",
    "s_next = BitVec('s_next', n)\n",
    "sline_next = BitVec('sline_next', n)\n",
    "t_next = BitVec('t_next', n)\n",
    "tline_next = BitVec('tline_next', n)\n",
    "\n",
    "q = BitVec('q', n)"
   ]
  },
  {
   "cell_type": "markdown",
   "id": "d52fd93f-1a55-4099-8aa9-e1c4ed885926",
   "metadata": {},
   "source": [
    "# Estado Inicial"
   ]
  },
  {
   "cell_type": "code",
   "execution_count": 4,
   "id": "cd3931d8-3737-4f7d-af62-0a08ff1b6919",
   "metadata": {},
   "outputs": [],
   "source": [
    "init = [\n",
    "    r == a,\n",
    "    rline == b,\n",
    "    s == 1,\n",
    "    sline == 0,\n",
    "    t == 0,\n",
    "    tline == 1,\n",
    "    a > 0,\n",
    "    b > 0\n",
    "]\n",
    "\n",
    "# q = r div r'\n",
    "q_def = q == UDiv(r, rline)"
   ]
  },
  {
   "cell_type": "markdown",
   "id": "32ca2493-1f9d-4655-87fb-90589e9018b0",
   "metadata": {},
   "source": [
    "# Calcular as variáveis do próximo estado"
   ]
  },
  {
   "cell_type": "code",
   "execution_count": 5,
   "id": "fae5ab5a-80e3-42a4-b01d-3c5c6e825c5d",
   "metadata": {},
   "outputs": [],
   "source": [
    "trans = [\n",
    "    r_next == rline,\n",
    "    rline_next == r - q * rline,\n",
    "    s_next == sline,\n",
    "    sline_next == s - q * sline,\n",
    "    t_next == tline,\n",
    "    tline_next == t - q * tline\n",
    "]"
   ]
  },
  {
   "cell_type": "markdown",
   "id": "71acf5a4-c6b8-4d00-95ff-7192db361ad2",
   "metadata": {},
   "source": [
    "# Invariante"
   ]
  },
  {
   "cell_type": "code",
   "execution_count": 6,
   "id": "ffe31526-9c00-4cc5-a89d-aabf85fd4ff8",
   "metadata": {},
   "outputs": [],
   "source": [
    "invariant = r == a * s + b * t"
   ]
  },
  {
   "cell_type": "markdown",
   "id": "1526a4dc-346b-4f22-b42f-30a4c60cb0ac",
   "metadata": {},
   "source": [
    "# Condição do While"
   ]
  },
  {
   "cell_type": "code",
   "execution_count": 7,
   "id": "acc72940-b814-4ed9-ab74-00af59e4eac3",
   "metadata": {},
   "outputs": [],
   "source": [
    "loop_condition = rline != 0"
   ]
  },
  {
   "cell_type": "markdown",
   "id": "ac77872b-f814-484e-9dd8-712c09cac3b7",
   "metadata": {},
   "source": [
    "# Atualizar as variáveis"
   ]
  },
  {
   "cell_type": "code",
   "execution_count": 8,
   "id": "30de76f7-ff04-48ed-ad50-9156428c4a7a",
   "metadata": {},
   "outputs": [],
   "source": [
    "state_update = Implies(\n",
    "    loop_condition,\n",
    "    And(\n",
    "        r == r_next,\n",
    "        rline == rline_next,\n",
    "        s == s_next,\n",
    "        sline == sline_next,\n",
    "        t == t_next,\n",
    "        tline == tline_next\n",
    "    )\n",
    ")"
   ]
  },
  {
   "cell_type": "markdown",
   "id": "9f5a04db-0c81-4751-8478-17e7169df1a4",
   "metadata": {},
   "source": [
    "# Definir estados de erro (Overflow ou r==0)"
   ]
  },
  {
   "cell_type": "code",
   "execution_count": 9,
   "id": "cbec6236-be2d-4acf-9830-e1ea4d62135b",
   "metadata": {},
   "outputs": [],
   "source": [
    "error_state = Or(\n",
    "    r == 0,\n",
    "    r > 2**(n-1) - 1,\n",
    "    rline > 2**(n-1) - 1,\n",
    "    s > 2**(n-1) - 1,\n",
    "    sline > 2**(n-1) - 1,\n",
    "    t > 2**(n-1) - 1,\n",
    "    tline > 2**(n-1) - 1,\n",
    ")"
   ]
  },
  {
   "cell_type": "markdown",
   "id": "180a7662-96da-419c-8225-079a9aa89840",
   "metadata": {},
   "source": [
    "# Inicializar solver"
   ]
  },
  {
   "cell_type": "code",
   "execution_count": 10,
   "id": "8751ce78-f300-4636-9c90-04aaea56d468",
   "metadata": {},
   "outputs": [
    {
     "name": "stdout",
     "output_type": "stream",
     "text": [
      "O estado de erro não é alcançável.\n"
     ]
    }
   ],
   "source": [
    "solver = Solver()\n",
    "solver.add(init)\n",
    "solver.add(loop_condition)\n",
    "solver.add(trans)\n",
    "solver.add(error_state)\n",
    "result = solver.check()\n",
    "if result == sat:\n",
    "    print(\"O estado de erro é alcançável.\")\n",
    "    print(solver.model())\n",
    "else:\n",
    "    print(\"O estado de erro não é alcançável.\")"
   ]
  },
  {
   "cell_type": "markdown",
   "id": "95bf2f6f-3ab1-4108-84b0-c96a50b4766e",
   "metadata": {},
   "source": [
    "# Caso base"
   ]
  },
  {
   "cell_type": "code",
   "execution_count": 11,
   "id": "230e001d-82a6-4801-b2ac-a54e1bca6796",
   "metadata": {},
   "outputs": [
    {
     "name": "stdout",
     "output_type": "stream",
     "text": [
      "O invariante não falha no caso base.\n"
     ]
    }
   ],
   "source": [
    "solver.reset()\n",
    "solver.add(init)\n",
    "solver.add(Not(invariant))\n",
    "result = solver.check()\n",
    "if result == sat:\n",
    "    print(\"O invariante falha no caso base.\")\n",
    "    print(solver.model())\n",
    "else:\n",
    "    print(\"O invariante não falha no caso base.\")"
   ]
  },
  {
   "cell_type": "markdown",
   "id": "e7d12ce5-8e06-46e6-8a81-d12e4b2e3d2d",
   "metadata": {},
   "source": [
    "# Passo indutivo"
   ]
  },
  {
   "cell_type": "code",
   "execution_count": 12,
   "id": "c8f31196-7b02-4c01-bc83-74e07072798e",
   "metadata": {},
   "outputs": [
    {
     "name": "stdout",
     "output_type": "stream",
     "text": [
      "O invariante não falha no passo indutivo.\n"
     ]
    }
   ],
   "source": [
    "solver.reset()\n",
    "solver.add(invariant)\n",
    "solver.add(loop_condition)\n",
    "solver.add(trans)\n",
    "solver.add(Not(invariant))\n",
    "result = solver.check()\n",
    "if result == sat:\n",
    "    print(\"O invariante falha no passo indutivo.\")\n",
    "    print(solver.model())\n",
    "else:\n",
    "    print(\"O invariante não falha no passo indutivo.\")"
   ]
  },
  {
   "cell_type": "code",
   "execution_count": null,
   "id": "1970decc-2454-4393-ac46-32fe8349ddf1",
   "metadata": {},
   "outputs": [],
   "source": []
  }
 ],
 "metadata": {
  "kernelspec": {
   "display_name": "Python 3 (ipykernel)",
   "language": "python",
   "name": "python3"
  },
  "language_info": {
   "codemirror_mode": {
    "name": "ipython",
    "version": 3
   },
   "file_extension": ".py",
   "mimetype": "text/x-python",
   "name": "python",
   "nbconvert_exporter": "python",
   "pygments_lexer": "ipython3",
   "version": "3.12.4"
  }
 },
 "nbformat": 4,
 "nbformat_minor": 5
}
