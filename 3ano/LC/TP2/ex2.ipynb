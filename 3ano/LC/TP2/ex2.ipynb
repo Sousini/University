{
 "cells": [
  {
   "cell_type": "code",
   "execution_count": 2,
   "metadata": {},
   "outputs": [
    {
     "name": "stdout",
     "output_type": "stream",
     "text": [
      "Invariante é mantido.\n",
      "Estado de erro não é acessível sob as condições de segurança.\n"
     ]
    }
   ],
   "source": [
    "from z3 import *\n",
    "\n",
    "# Definindo o tamanho do BitVec\n",
    "n = 8  # Por exemplo, 8 bits\n",
    "\n",
    "# Definindo as variáveis BitVec\n",
    "a = BitVec('a', n)\n",
    "b = BitVec('b', n)\n",
    "x = BitVec('x', n)\n",
    "y = BitVec('y', n)\n",
    "z = BitVec('z', n)\n",
    "\n",
    "# Estado inicial: x = a, y = b, z = 0\n",
    "initial_state = And(x == a, y == b, z == 0, a >= 0, b >= 0)\n",
    "\n",
    "# Relação de transição\n",
    "next_x = If(y % 2 == 0, x << 1, x)       # Se y é par, x <<= 1\n",
    "next_y = If(y % 2 == 0, y >> 1, y - 1)   # Se y é par, y >>= 1, senão y -= 1\n",
    "next_z = If(y % 2 == 0, z, z + x)        # Se y é ímpar, z += x\n",
    "\n",
    "# Estado de erro\n",
    "error_state = Or(UGT(next_x, BitVecVal(2**n - 1, n)), UGT(next_z, BitVecVal(2**n - 1, n)))\n",
    "\n",
    "# Propriedade do invariante a * b = x * y + z\n",
    "invariant_property = (x * y + z == a * b)\n",
    "\n",
    "# Função para verificar a propriedade do invariante\n",
    "def check_invariant():\n",
    "    s = Solver()\n",
    "    # Adicionando o estado inicial\n",
    "    s.add(initial_state)\n",
    "    # Adicionando a propriedade que queremos manter como invariante\n",
    "    s.add(Not(invariant_property))\n",
    "    \n",
    "    # Verificando se a propriedade do invariante é falsa\n",
    "    if s.check() == sat:\n",
    "        print(\"Invariante não é mantido.\")\n",
    "        print(\"Modelo que quebra a propriedade:\", s.model())\n",
    "    else:\n",
    "        print(\"Invariante é mantido.\")\n",
    "\n",
    "# Função para verificar a segurança do programa\n",
    "def check_safety():\n",
    "    s = Solver()\n",
    "    # Condições adicionais para a segurança\n",
    "    safety_conditions = And(a < BitVecVal(2**(n//2), n), b < BitVecVal(2**(n//2), n))\n",
    "    # Adicionando o estado inicial e as condições de segurança\n",
    "    s.add(initial_state)\n",
    "    s.add(safety_conditions)\n",
    "    \n",
    "    # Verificando se o estado de erro é acessível\n",
    "    s.add(error_state)\n",
    "    \n",
    "    if s.check() == sat:\n",
    "        print(\"Estado de erro acessível sob as condições de segurança.\")\n",
    "        print(\"Modelo que atinge estado de erro:\", s.model())\n",
    "    else:\n",
    "        print(\"Estado de erro não é acessível sob as condições de segurança.\")\n",
    "\n",
    "# Verificar a propriedade do invariante\n",
    "check_invariant()\n",
    "\n",
    "# Verificar a segurança do programa\n",
    "check_safety()\n"
   ]
  }
 ],
 "metadata": {
  "kernelspec": {
   "display_name": "base",
   "language": "python",
   "name": "python3"
  },
  "language_info": {
   "codemirror_mode": {
    "name": "ipython",
    "version": 3
   },
   "file_extension": ".py",
   "mimetype": "text/x-python",
   "name": "python",
   "nbconvert_exporter": "python",
   "pygments_lexer": "ipython3",
   "version": "3.12.4"
  }
 },
 "nbformat": 4,
 "nbformat_minor": 2
}
