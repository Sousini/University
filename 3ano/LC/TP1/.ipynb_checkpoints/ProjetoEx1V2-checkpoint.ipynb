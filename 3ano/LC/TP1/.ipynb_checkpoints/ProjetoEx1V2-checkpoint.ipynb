{
 "cells": [
  {
   "cell_type": "markdown",
   "metadata": {},
   "source": [
    "# Lógica Computacional 24/25\n",
    "\n",
    "**Grupo 09**\n",
    "\n",
    "- João Afonso Almeida Sousa (A102462)\n",
    "- Rafael Cunha Costa (A102526)\n"
   ]
  },
  {
   "cell_type": "markdown",
   "metadata": {},
   "source": [
    "```markdown\n",
    "# Introdução\n",
    "\n",
    "Este projeto foi desenvolvido no âmbito da disciplina de Lógica Computacional do ano letivo 2024/2025. O objetivo principal é resolver um problema de agendamento de reuniões para diferentes projetos, considerando a disponibilidade dos colaboradores e as restrições impostas.\n",
    "\n",
    "## Objetivos\n",
    "\n",
    "- **Definir variáveis e restrições:** Criar variáveis que representem os dias, tempos e salas das reuniões e adicionar restrições para garantir que as reuniões sejam agendadas de acordo com a disponibilidade dos colaboradores.\n",
    "- **Utilizar o Z3 Solver:** Utilizar o Z3 Solver para encontrar uma solução que satisfaça todas as restrições impostas.\n",
    "- **Verificar a solução:** Verificar se a solução encontrada é válida e imprimir os detalhes das reuniões agendadas, incluindo os participantes.\n",
    "\n",
    "## Estrutura do Projeto\n",
    "\n",
    "1. **Definição dos parâmetros:** Número de salas, dias, tempos por dia, projetos e colaboradores.\n",
    "2. **Definição dos projetos:** Informações sobre os projetos, incluindo líder, colaboradores e número de reuniões por semana.\n",
    "3. **Disponibilidade dos colaboradores:** Disponibilidade de cada colaborador em termos de dias e tempos.\n",
    "4. **Criação de variáveis:** Variáveis para representar o dia, tempo e sala de cada reunião.\n",
    "5. **Adição de restrições:** Restrições para garantir que as reuniões sejam agendadas de acordo com a disponibilidade dos colaboradores e outras condições.\n",
    "6. **Verificação da solução:** Utilização do Z3 Solver para encontrar uma solução e verificação da mesma.\n",
    "\n",
    "```"
   ]
  },
  {
   "cell_type": "code",
   "execution_count": 18,
   "metadata": {},
   "outputs": [],
   "source": [
    "from z3 import Solver, Int, Or, And, sat, AtLeast"
   ]
  },
  {
   "cell_type": "code",
   "execution_count": 19,
   "metadata": {},
   "outputs": [],
   "source": [
    "solver = Solver()"
   ]
  },
  {
   "cell_type": "code",
   "execution_count": 20,
   "metadata": {},
   "outputs": [],
   "source": [
    "S = 3  #Número de salas\n",
    "D = 5  #Número de dias\n",
    "T = 4  #Número de tempos por dia\n",
    "P = 2  #Número de projetos\n",
    "C = 6  #Número total de colaboradores"
   ]
  },
  {
   "cell_type": "code",
   "execution_count": 21,
   "metadata": {},
   "outputs": [],
   "source": [
    "#Projetos existentes\n",
    "projetos = {\n",
    "    0: {'lider': 1, 'colaboradores': [1, 2], 'nReunioesPorSemana': 2},\n",
    "    1: {'lider': 4, 'colaboradores': [4, 5], 'nReunioesPorSemana': 2}\n",
    "}"
   ]
  },
  {
   "cell_type": "code",
   "execution_count": 22,
   "metadata": {},
   "outputs": [],
   "source": [
    "#Disponibilidade dos colaboradores\n",
    "#nDoColaborador: [(dia,tempo)]\n",
    "disponibilidade = {\n",
    "    1: [(1, 1), (2, 2), (3,1)],\n",
    "    2: [(1, 1), (2,2), (3, 1)],\n",
    "    3: [(1, 1), (3, 2)],\n",
    "    4: [(2, 2), (4, 3), (3,2)],\n",
    "    5: [(1, 1), (3, 2), (2,2)],\n",
    "    6: [(3, 1), (4, 2)]\n",
    "}"
   ]
  },
  {
   "cell_type": "code",
   "execution_count": 23,
   "metadata": {},
   "outputs": [],
   "source": [
    "#Para cada projeto, criar variaveis para o dia, tempo e sala de cada reunião\n",
    "reunioes = {}\n",
    "for p in range(P):\n",
    "    reunioes[p] = [(Int(f\"dia_{p}_{i}\"), Int(f\"tempo_{p}_{i}\"), Int(f\"sala_{p}_{i}\")) for i in range(projetos[p]['nReunioesPorSemana'])]"
   ]
  },
  {
   "cell_type": "code",
   "execution_count": 24,
   "metadata": {},
   "outputs": [],
   "source": [
    "#Restrições\n",
    "for p in range(P):\n",
    "    for i in range(projetos[p]['nReunioesPorSemana']):\n",
    "        #Dias, tempos e salas têm de ser válidos\n",
    "        dia, tempo, sala = reunioes[p][i]\n",
    "        solver.add(And(dia >= 1, dia <= D))\n",
    "        solver.add(And(tempo >= 1, tempo <= T))\n",
    "        solver.add(And(sala >= 1, sala <= S))\n",
    "\n",
    "        #O líder do projeto tem de estar disponível\n",
    "        lider = projetos[p]['lider']\n",
    "        #O slot (dia,tempo) tem de coincidir com pelo menos 1 disponibilidade do líder\n",
    "        solver.add(Or([And(dia == d, tempo == t) for (d, t) in disponibilidade[lider]]))\n",
    "\n",
    "        #50% dos colaboradores têm de estar disponíveis\n",
    "        colaboradores = projetos[p]['colaboradores']\n",
    "        quorum = len(colaboradores) // 2\n",
    "        #Filtrar colaboradores com pelo menos 1 disponibilidade no slot escolhido\n",
    "        disponiveis = [Or([And(dia == d, tempo == t) for (d, t) in disponibilidade[colab]]) for colab in colaboradores]\n",
    "        solver.add(AtLeast(*disponiveis, quorum))"
   ]
  },
  {
   "cell_type": "code",
   "execution_count": 25,
   "metadata": {},
   "outputs": [
    {
     "name": "stdout",
     "output_type": "stream",
     "text": [
      "Projeto 0 (líder: 1, colaboradores: [1, 2]):\n",
      "  Reunião 1: Dia 2, Tempo 2, Sala 1\n",
      "    Participantes: [1, 2]\n",
      "  Reunião 2: Dia 3, Tempo 1, Sala 1\n",
      "    Participantes: [1, 2]\n",
      "Projeto 1 (líder: 4, colaboradores: [4, 5]):\n",
      "  Reunião 1: Dia 4, Tempo 3, Sala 1\n",
      "    Participantes: [4]\n",
      "  Reunião 2: Dia 3, Tempo 2, Sala 1\n",
      "    Participantes: [4, 5]\n"
     ]
    }
   ],
   "source": [
    "#Verificar a solução\n",
    "if solver.check() == sat:\n",
    "    model = solver.model()\n",
    "    for p in range(P):\n",
    "        lider = projetos[p]['lider']\n",
    "        colaboradores = projetos[p]['colaboradores']\n",
    "        print(f\"Projeto {p} (líder: {lider}, colaboradores: {colaboradores}):\")\n",
    "        \n",
    "        for i in range(projetos[p]['nReunioesPorSemana']):\n",
    "            dia = model[reunioes[p][i][0]]\n",
    "            tempo = model[reunioes[p][i][1]]\n",
    "            sala = model[reunioes[p][i][2]]\n",
    "            print(f\"  Reunião {i+1}: Dia {dia}, Tempo {tempo}, Sala {sala}\")\n",
    "            \n",
    "            #Imprimir o número dos participantes da reunião\n",
    "            participantes = []\n",
    "            \n",
    "            #Verificar quem participa e imprimir o número\n",
    "            for colaborador in colaboradores:\n",
    "                disponibilidade_colab = disponibilidade[colaborador]\n",
    "                if any(dia == d and tempo == t for (d, t) in disponibilidade_colab):\n",
    "                    participantes.append(colaborador)\n",
    "            \n",
    "            print(f\"    Participantes: {participantes}\")\n",
    "else:\n",
    "    print(\"Solução não encontrada!!\")"
   ]
  },
  {
   "cell_type": "code",
   "execution_count": null,
   "metadata": {},
   "outputs": [],
   "source": []
  }
 ],
 "metadata": {
  "kernelspec": {
   "display_name": "Python 3 (ipykernel)",
   "language": "python",
   "name": "python3"
  },
  "language_info": {
   "codemirror_mode": {
    "name": "ipython",
    "version": 3
   },
   "file_extension": ".py",
   "mimetype": "text/x-python",
   "name": "python",
   "nbconvert_exporter": "python",
   "pygments_lexer": "ipython3",
   "version": "3.12.4"
  }
 },
 "nbformat": 4,
 "nbformat_minor": 4
}
