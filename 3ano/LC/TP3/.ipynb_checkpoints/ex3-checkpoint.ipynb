{
 "cells": [
  {
   "cell_type": "code",
   "execution_count": 10,
   "metadata": {},
   "outputs": [],
   "source": [
    "from z3 import *\n",
    "from functools import reduce"
   ]
  },
  {
   "cell_type": "code",
   "execution_count": 11,
   "metadata": {},
   "outputs": [],
   "source": [
    "# Tamanhos dos LFSRs\n",
    "LFSR_SIZES = [19, 22, 23]"
   ]
  },
  {
   "cell_type": "code",
   "execution_count": 12,
   "metadata": {},
   "outputs": [],
   "source": [
    "# Registradores como BitVec\n",
    "X0 = BitVec('X0', LFSR_SIZES[0])\n",
    "X1 = BitVec('X1', LFSR_SIZES[1])\n",
    "X2 = BitVec('X2', LFSR_SIZES[2])"
   ]
  },
  {
   "cell_type": "code",
   "execution_count": 13,
   "metadata": {},
   "outputs": [],
   "source": [
    "# Função de transição do LFSR com taps (feedback)\n",
    "def next_state(x, size, taps):\n",
    "    feedback = Reduce(Xor, [Extract(t, t, x) for t in taps])\n",
    "    feedback = If(feedback == 1, BitVecVal(1, size), BitVecVal(0, size))\n",
    "    return Concat(feedback, Extract(size - 1, 1, x))\n"
   ]
  },
  {
   "cell_type": "code",
   "execution_count": 14,
   "metadata": {},
   "outputs": [],
   "source": [
    "# Taps dos LFSRs\n",
    "taps_X0 = [18, 17, 16, 13]  # Taps do primeiro LFSR\n",
    "taps_X1 = [21, 20]          # Taps do segundo LFSR\n",
    "taps_X2 = [22, 21, 20, 7]   # Taps do terceiro LFSR\n"
   ]
  },
  {
   "cell_type": "code",
   "execution_count": 15,
   "metadata": {},
   "outputs": [],
   "source": [
    "# Condição inicial (todos os registradores > 0)\n",
    "initial_condition = And(X0 > 0, X1 > 0, X2 > 0)\n"
   ]
  },
  {
   "cell_type": "code",
   "execution_count": 16,
   "metadata": {},
   "outputs": [],
   "source": [
    "# Condição de erro (pelo menos um dos registradores == 0)\n",
    "error_condition = Or(X0 == 0, X1 == 0, X2 == 0)"
   ]
  },
  {
   "cell_type": "code",
   "execution_count": 17,
   "metadata": {},
   "outputs": [],
   "source": [
    "# Propriedade de segurança: nunca atingir a condição de erro\n",
    "def verify_property():\n",
    "    solver = Solver()\n",
    "    solver.add(initial_condition)\n",
    "    \n",
    "    # Inicializar estados\n",
    "    state_X0 = X0\n",
    "    state_X1 = X1\n",
    "    state_X2 = X2\n",
    "    \n",
    "    # Iterar para buscar estados que levam à condição de erro\n",
    "    for step in range(100):  # Número máximo de passos para busca\n",
    "        if solver.check() == sat:\n",
    "            model = solver.model()\n",
    "            \n",
    "            # Checar se a condição de erro foi alcançada\n",
    "            if model[state_X0] == 0 or model[state_X1] == 0 or model[state_X2] == 0:\n",
    "                print(f\"Condição de erro encontrada no passo {step}\")\n",
    "                print(\"Modelo: \")\n",
    "                print(f\"X0 = {model[state_X0].as_long()}\")\n",
    "                print(f\"X1 = {model[state_X1].as_long()}\")\n",
    "                print(f\"X2 = {model[state_X2].as_long()}\")\n",
    "                return\n",
    "            \n",
    "            # Atualizar estados com a transição\n",
    "            next_X0 = next_state(state_X0, LFSR_SIZES[0], taps_X0)\n",
    "            next_X1 = next_state(state_X1, LFSR_SIZES[1], taps_X1)\n",
    "            next_X2 = next_state(state_X2, LFSR_SIZES[2], taps_X2)\n",
    "            \n",
    "            solver.add(state_X0 == next_X0, state_X1 == next_X1, state_X2 == next_X2)\n",
    "        else:\n",
    "            print(\"Propriedade verificada com sucesso: condição de erro não atingida.\")\n",
    "            return\n",
    "\n",
    "    print(\"Limite de passos atingido. Propriedade não foi refutada, mas não há garantia de segurança.\")\n"
   ]
  },
  {
   "cell_type": "code",
   "execution_count": 18,
   "metadata": {},
   "outputs": [
    {
     "ename": "NameError",
     "evalue": "name 'Reduce' is not defined",
     "output_type": "error",
     "traceback": [
      "\u001b[0;31m---------------------------------------------------------------------------\u001b[0m",
      "\u001b[0;31mNameError\u001b[0m                                 Traceback (most recent call last)",
      "Cell \u001b[0;32mIn[18], line 2\u001b[0m\n\u001b[1;32m      1\u001b[0m \u001b[38;5;66;03m# Verificar a propriedade\u001b[39;00m\n\u001b[0;32m----> 2\u001b[0m verify_property()\n",
      "Cell \u001b[0;32mIn[17], line 26\u001b[0m, in \u001b[0;36mverify_property\u001b[0;34m()\u001b[0m\n\u001b[1;32m     23\u001b[0m     \u001b[38;5;28;01mreturn\u001b[39;00m\n\u001b[1;32m     25\u001b[0m \u001b[38;5;66;03m# Atualizar estados com a transição\u001b[39;00m\n\u001b[0;32m---> 26\u001b[0m next_X0 \u001b[38;5;241m=\u001b[39m next_state(state_X0, LFSR_SIZES[\u001b[38;5;241m0\u001b[39m], taps_X0)\n\u001b[1;32m     27\u001b[0m next_X1 \u001b[38;5;241m=\u001b[39m next_state(state_X1, LFSR_SIZES[\u001b[38;5;241m1\u001b[39m], taps_X1)\n\u001b[1;32m     28\u001b[0m next_X2 \u001b[38;5;241m=\u001b[39m next_state(state_X2, LFSR_SIZES[\u001b[38;5;241m2\u001b[39m], taps_X2)\n",
      "Cell \u001b[0;32mIn[13], line 3\u001b[0m, in \u001b[0;36mnext_state\u001b[0;34m(x, size, taps)\u001b[0m\n\u001b[1;32m      2\u001b[0m \u001b[38;5;28;01mdef\u001b[39;00m \u001b[38;5;21mnext_state\u001b[39m(x, size, taps):\n\u001b[0;32m----> 3\u001b[0m     feedback \u001b[38;5;241m=\u001b[39m Reduce(Xor, [Extract(t, t, x) \u001b[38;5;28;01mfor\u001b[39;00m t \u001b[38;5;129;01min\u001b[39;00m taps])\n\u001b[1;32m      4\u001b[0m     feedback \u001b[38;5;241m=\u001b[39m If(feedback \u001b[38;5;241m==\u001b[39m \u001b[38;5;241m1\u001b[39m, BitVecVal(\u001b[38;5;241m1\u001b[39m, size), BitVecVal(\u001b[38;5;241m0\u001b[39m, size))\n\u001b[1;32m      5\u001b[0m     \u001b[38;5;28;01mreturn\u001b[39;00m Concat(feedback, Extract(size \u001b[38;5;241m-\u001b[39m \u001b[38;5;241m1\u001b[39m, \u001b[38;5;241m1\u001b[39m, x))\n",
      "\u001b[0;31mNameError\u001b[0m: name 'Reduce' is not defined"
     ]
    }
   ],
   "source": [
    "# Verificar a propriedade\n",
    "verify_property()"
   ]
  }
 ],
 "metadata": {
  "kernelspec": {
   "display_name": "base",
   "language": "python",
   "name": "python3"
  },
  "language_info": {
   "codemirror_mode": {
    "name": "ipython",
    "version": 3
   },
   "file_extension": ".py",
   "mimetype": "text/x-python",
   "name": "python",
   "nbconvert_exporter": "python",
   "pygments_lexer": "ipython3",
   "version": "3.12.4"
  }
 },
 "nbformat": 4,
 "nbformat_minor": 2
}
