{
 "cells": [
  {
   "cell_type": "markdown",
   "metadata": {},
   "source": [
    "# Lógica Computacional 24/25\n",
    "\n",
    "**Grupo 09**\n",
    "\n",
    "- João Afonso Almeida Sousa (A102462)\n",
    "- Rafael Cunha Costa (A102526)"
   ]
  },
  {
   "cell_type": "markdown",
   "metadata": {},
   "source": [
    "## **Descrição do Problema**\n",
    "\n",
    "Considere de novo o 1º problema do trabalho TP2  relativo à descrição da cifra $\\,\\mathsf{A5/1}$ e o FOTS usando BitVec’s que aí foi definido para a componente do gerador de chaves. Ignore a componente de geração final da chave e restrinja o modelo aos três LFSR’s. \n",
    "Sejam $\\,\\mathsf{X}_0, \\mathsf{X}_1, \\mathsf{X}_2\\,$ as variáveis que determinam os estados dos três LFSR’s que ocorrem neste modelo. Como condição inicial  e condição de erro use os predicados\n",
    "\n",
    "$$\\,\\mathsf{I} \\;\\equiv\\; (\\mathsf{X}_0 > 0)\\,\\land\\,(\\mathsf{X}_1 > 0)\\,\\land\\,(\\mathsf{X}_2 > 0)\\quad e \\quad \\mathsf{E}\\;\\equiv\\;\\neg\\,\\mathsf{I}$$"
   ]
  },
  {
   "cell_type": "markdown",
   "metadata": {},
   "source": [
    "a. Codifique em “z3” o SFOTS assim definido."
   ]
  },
  {
   "cell_type": "code",
   "execution_count": 124,
   "metadata": {},
   "outputs": [],
   "source": [
    "from z3 import *\n",
    "from random import getrandbits"
   ]
  },
  {
   "cell_type": "markdown",
   "metadata": {},
   "source": [
    "## **Implementação do SFOTS**\n",
    "\n",
    "### **Definição das Variáveis e Estados:**"
   ]
  },
  {
   "cell_type": "code",
   "execution_count": 125,
   "metadata": {},
   "outputs": [],
   "source": [
    "# Função para criar os estados dos LFSRs\n",
    "def criar_estado(indice):\n",
    "    estado = {\n",
    "        'X0': BitVec(f'X0_{indice}', 19),\n",
    "        'X1': BitVec(f'X1_{indice}', 22),\n",
    "        'X2': BitVec(f'X2_{indice}', 23),\n",
    "    }\n",
    "    return estado"
   ]
  },
  {
   "cell_type": "markdown",
   "metadata": {},
   "source": [
    "### **Condição Inicial**\n",
    "\n",
    "A condição inicial assegura que todos os registros LFSRs têm valores positivos."
   ]
  },
  {
   "cell_type": "code",
   "execution_count": 126,
   "metadata": {},
   "outputs": [],
   "source": [
    "# Função que define a condição inicial\n",
    "def condicao_inicial(estado):\n",
    "    return And(estado['X0'] > 0, estado['X1'] > 0, estado['X2'] > 0)"
   ]
  },
  {
   "cell_type": "markdown",
   "metadata": {},
   "source": [
    "### **Condição de Erro**\n",
    "\n",
    "A condição de erro é o complemento da inicial."
   ]
  },
  {
   "cell_type": "code",
   "execution_count": 127,
   "metadata": {},
   "outputs": [],
   "source": [
    "# Função que define a condição de erro\n",
    "def condicao_erro(estado):\n",
    "    return Not(condicao_inicial(estado))"
   ]
  },
  {
   "cell_type": "markdown",
   "metadata": {},
   "source": [
    "### **Transições do Sistema**\n",
    "\n",
    "Definição das transições entre os estados dos três LSFRs no modelo. Cada LFSR possui um estado representado por um BitVec e a função seguinte descreve como esses estados mudam com base em condições específicas."
   ]
  },
  {
   "cell_type": "code",
   "execution_count": null,
   "metadata": {},
   "outputs": [],
   "source": [
    "# Função para definir as transições entre estados\n",
    "def trans(atual, proximo):\n",
    "    # Bits de controlo\n",
    "    bit_controlo1 = Extract(8, 8, atual['X0'])  # Extrai o 8º bit de X0 (o bit na posição 8).\n",
    "    bit_controlo2 = Extract(10, 10, atual['X1']) # Extrai o 10º bit de X1.\n",
    "    bit_controlo3 = Extract(10, 10, atual['X2']) # Extrai o 10º bit de X2.\n",
    "\n",
    "    # Transição para X0\n",
    "    transicao1_ativa = And(   \n",
    "        proximo['X0'] == Concat(  # o próximo estado de X0 é determinado por uma operação XOR (entre 4 bits específicos de X0) e concatenado com o bit 18 de X0.\n",
    "            Extract(18, 18, atual['X0']) ^ Extract(17, 17, atual['X0']) ^ \n",
    "            Extract(16, 16, atual['X0']) ^ Extract(13, 13, atual['X0']),\n",
    "            Extract(18, 1, atual['X0'])\n",
    "        ),\n",
    "        Or(bit_controlo1 == bit_controlo2, bit_controlo1 == bit_controlo3)  # a transição só acontece se o bit de controlo 1 for igual ao bit de controlo 2 ou ao bit de controlo 3.\n",
    "    )\n",
    "    transicao1_inativa = And(\n",
    "        proximo['X0'] == atual['X0'], # Ocorre quando o proximo estado de X0 é igual ao estado atual de X0.\n",
    "        Not(Or(bit_controlo1 == bit_controlo2, bit_controlo1 == bit_controlo3)) # não occer se o bit de controlo 1 for igual ao bit de controlo 2 ou ao bit de controlo 3.\n",
    "    )\n",
    "\n",
    "    # Transição para X1\n",
    "    transicao2_ativa = And(\n",
    "        proximo['X1'] == Concat(\n",
    "            Extract(21, 21, atual['X1']) ^ Extract(20, 20, atual['X1']),\n",
    "            Extract(21, 1, atual['X1'])\n",
    "        ),\n",
    "        Or(bit_controlo1 == bit_controlo2, bit_controlo2 == bit_controlo3)\n",
    "    )\n",
    "    transicao2_inativa = And(\n",
    "        proximo['X1'] == atual['X1'],\n",
    "        Not(Or(bit_controlo1 == bit_controlo2, bit_controlo2 == bit_controlo3))\n",
    "    )\n",
    "\n",
    "    # Transição para X2\n",
    "    transicao3_ativa = And(\n",
    "        proximo['X2'] == Concat(\n",
    "            Extract(22, 22, atual['X2']) ^ Extract(21, 21, atual['X2']) ^ \n",
    "            Extract(20, 20, atual['X2']) ^ Extract(7, 7, atual['X2']),\n",
    "            Extract(22, 1, atual['X2'])\n",
    "        ),\n",
    "        Or(bit_controlo3 == bit_controlo2, bit_controlo1 == bit_controlo3)\n",
    "    )\n",
    "    transicao3_inativa = And(\n",
    "        proximo['X2'] == atual['X2'],\n",
    "        Not(Or(bit_controlo3 == bit_controlo2, bit_controlo1 == bit_controlo3))\n",
    "    )\n",
    "\n",
    "    # Retorna a conjunção de todas as transições possíveis\n",
    "    return And(\n",
    "        Or(transicao1_ativa, transicao1_inativa),\n",
    "        Or(transicao2_ativa, transicao2_inativa),\n",
    "        Or(transicao3_ativa, transicao3_inativa)\n",
    "    )"
   ]
  },
  {
   "cell_type": "markdown",
   "metadata": {},
   "source": [
    "### **Geração e Verificação do SFOTS**\n",
    "\n",
    "O sistema gera uma sequência de estados a partir da condição inicial, garantindo que nenhum estado satisfaça a condição de erro."
   ]
  },
  {
   "cell_type": "code",
   "execution_count": 129,
   "metadata": {},
   "outputs": [
    {
     "name": "stdout",
     "output_type": "stream",
     "text": [
      "Caminho encontrado\n",
      "Passo 1:\n",
      "  X0 = 0000000000001010010 = 82\n",
      "  X1 = 0010010000001101010101 = 590677\n",
      "  X2 = 01001101000010010011000 = 2524312\n",
      "--------------------------------\n",
      "Passo 2:\n",
      "  X0 = 0000000000000101001 = 41\n",
      "  X1 = 0001001000000110101010 = 295338\n",
      "  X2 = 01001101000010010011000 = 2524312\n",
      "--------------------------------\n",
      "Passo 3:\n",
      "  X0 = 0000000000000010100 = 20\n",
      "  X1 = 0000100100000011010101 = 147669\n",
      "  X2 = 01001101000010010011000 = 2524312\n",
      "--------------------------------\n",
      "Passo 4:\n",
      "  X0 = 0000000000000001010 = 10\n",
      "  X1 = 0000010010000001101010 = 73834\n",
      "  X2 = 01001101000010010011000 = 2524312\n",
      "--------------------------------\n",
      "Passo 5:\n",
      "  X0 = 0000000000000000101 = 5\n",
      "  X1 = 0000001001000000110101 = 36917\n",
      "  X2 = 01001101000010010011000 = 2524312\n",
      "--------------------------------\n",
      "Passo 6:\n",
      "  X0 = 0000000000000000010 = 2\n",
      "  X1 = 0000000100100000011010 = 18458\n",
      "  X2 = 01001101000010010011000 = 2524312\n",
      "--------------------------------\n",
      "Passo 7:\n",
      "  X0 = 0000000000000000001 = 1\n",
      "  X1 = 0000000010010000001101 = 9229\n",
      "  X2 = 01001101000010010011000 = 2524312\n",
      "--------------------------------\n",
      "Passo 8:\n",
      "  X0 = 0000000000000000001 = 1\n",
      "  X1 = 0000000001001000000110 = 4614\n",
      "  X2 = 00100110100001001001100 = 1262156\n",
      "--------------------------------\n"
     ]
    }
   ],
   "source": [
    "# Função para gerar e testar o SFOTS\n",
    "def gerar_sfots(cond_inicial, cond_erro, transicao, passos):\n",
    "    solver = Solver()\n",
    "    estados = [criar_estado(i) for i in range(passos)]\n",
    "\n",
    "    # Adicionar condições iniciais\n",
    "    solver.add(cond_inicial(estados[0]))\n",
    "\n",
    "    # Garantir que nenhum estado é de erro\n",
    "    for i in range(passos):\n",
    "        solver.add(Not(cond_erro(estados[i])))\n",
    "\n",
    "    # Adicionar as transições entre estados\n",
    "    for i in range(passos - 1):\n",
    "        solver.add(transicao(estados[i], estados[i + 1]))\n",
    "\n",
    "    # Verificar se o sistema é resolvível\n",
    "    if solver.check() == sat:\n",
    "        print(\"Caminho encontrado\")\n",
    "        modelo = solver.model()\n",
    "        for i in range(passos):\n",
    "            print(f\"Passo {i + 1}:\")\n",
    "            for nome, valor in estados[i].items():\n",
    "                estado_bin = format(modelo.eval(valor).as_long(), f'0{modelo[valor].size()}b')\n",
    "                print(f\"  {nome} = {estado_bin} = {modelo.eval(valor)}\")\n",
    "            print(\"--------------------------------\")\n",
    "    else:\n",
    "        print(\"Caminho não encontrado\")\n",
    "\n",
    "\n",
    "# Exemplo de execução do SFOTS com 8 passos\n",
    "gerar_sfots(condicao_inicial, condicao_erro, trans, 8)"
   ]
  },
  {
   "cell_type": "markdown",
   "metadata": {},
   "source": [
    "b. Use o algoritmo PDR “property directed reachability” (codifique-o ou use uma versão pré-existente) e, com ele, tente provar a segurança deste modelo."
   ]
  },
  {
   "cell_type": "markdown",
   "metadata": {},
   "source": [
    "### **Verificação de Segurança com PDR**\n",
    "\n",
    "Utilizamos Property Directed Reachability (PDR) para garantir que o sistema nunca alcança um estado de erro."
   ]
  },
  {
   "cell_type": "markdown",
   "metadata": {},
   "source": [
    "**Criar as variáveis de estado do modelo:**"
   ]
  },
  {
   "cell_type": "code",
   "execution_count": 130,
   "metadata": {},
   "outputs": [],
   "source": [
    "def estados_pdr():\n",
    "    return {\n",
    "        'X0': BitVec('X0', 19),\n",
    "        'X1': BitVec('X1', 22),\n",
    "        'X2': BitVec('X2', 23),\n",
    "    }"
   ]
  },
  {
   "cell_type": "markdown",
   "metadata": {},
   "source": [
    "**Obter Cubo Inválido no Algoritmo PDR**\n",
    "\n",
    "Um cubo inválido representa um conjunto de valores que viola a condição de segurança no estado atual.\n"
   ]
  },
  {
   "cell_type": "code",
   "execution_count": 131,
   "metadata": {},
   "outputs": [],
   "source": [
    "def obter_cubo_invalido(cond_erro, frames, k, solver):\n",
    "    estado_atual = estados_pdr()\n",
    "    solver.push()\n",
    "    for frame in frames:\n",
    "        solver.add(Not(frame))\n",
    "    solver.add(cond_erro(estado_atual))\n",
    "\n",
    "    if solver.check() == sat:\n",
    "        modelo = solver.model()\n",
    "        cubo = {var: modelo.eval(var, model_completion=True) for var in estado_atual.values()}\n",
    "        solver.pop()\n",
    "        return cubo\n",
    "    solver.pop()\n",
    "    return None"
   ]
  },
  {
   "cell_type": "markdown",
   "metadata": {},
   "source": [
    "**Tentar bloquear um cubo inválido:**\n",
    "\n",
    "A função `bloquear_cubo` é uma parte essencial do algoritmo PDR. Ela tenta bloquear um cubo inválido adicionando restrições que evitam que ele reapareça em frames futuros."
   ]
  },
  {
   "cell_type": "code",
   "execution_count": 132,
   "metadata": {},
   "outputs": [],
   "source": [
    "def bloquear_cubo(cubo, frames, k, transicao, solver):\n",
    "    for i in range(k, 0, -1):\n",
    "        solver.push()\n",
    "        estado_anterior = estados_pdr()\n",
    "        estado_atual = estados_pdr()\n",
    "\n",
    "        solver.add(transicao(estado_anterior, estado_atual))\n",
    "        for j in range(i):\n",
    "            solver.add(Not(frames[j]))\n",
    "\n",
    "        cond_bloqueio = True\n",
    "        for var, val in cubo.items():\n",
    "            cond_bloqueio = And(cond_bloqueio, var != val)\n",
    "\n",
    "        solver.add(cond_bloqueio)\n",
    "        if solver.check() == unsat:\n",
    "            solver.pop()\n",
    "            print(f\"Cubo bloqueado no frame {i}\")\n",
    "            frames[i] = cond_bloqueio\n",
    "            return True\n",
    "        solver.pop()\n",
    "\n",
    "    return False"
   ]
  },
  {
   "cell_type": "markdown",
   "metadata": {},
   "source": [
    "### **Função verificar_pdr**\n",
    "\n",
    "A função `verificar_pdr` implementa o algoritmo de **Property Directed Reachability (PDR)**, que é utilizado para verificar a segurança de sistemas dinâmicos modelados com **satisfatibilidade booleana (SAT)**. O PDR é um algoritmo de verificação de modelo incremental, que tenta provar que um sistema nunca alcança um estado \"inválido\" (erro), com base em uma sequência de condições de segurança e transições.\n"
   ]
  },
  {
   "cell_type": "code",
   "execution_count": 133,
   "metadata": {},
   "outputs": [],
   "source": [
    "def verificar_pdr(cond_inicial, transicao, cond_erro):\n",
    "    solver = Solver()\n",
    "    frames = [Not(cond_inicial(estados_pdr()))]\n",
    "    k = 0\n",
    "\n",
    "    while True:\n",
    "        print(f\"Iteração {k}\")\n",
    "        cubo_invalido = obter_cubo_invalido(cond_erro, frames, k, solver)\n",
    "\n",
    "        if cubo_invalido is None:\n",
    "            if k > 0 and frames[k] == frames[k - 1]: # Se já houve uma transição anterior e o frame se mantem igual, ou seja, o sistema não pode evoluir mais para um estado de erro\n",
    "                print(\"Sistema é seguro\")\n",
    "                return\n",
    "            else:\n",
    "                frames.append(False) # Adiciona um novo frame à lista e k é incrementado\n",
    "                k += 1\n",
    "        else:\n",
    "            bloqueado = bloquear_cubo(cubo_invalido, frames, k, transicao, solver) # Tenta bloquear o cubo invalido\n",
    "            if not bloqueado:\n",
    "                print(\"Sistema não é seguro\") # Se não for possível bloquear o cubo, o sistema não é seguro\n",
    "                return"
   ]
  },
  {
   "cell_type": "markdown",
   "metadata": {},
   "source": [
    "### **Execução do PDR**\n",
    "\n"
   ]
  },
  {
   "cell_type": "code",
   "execution_count": 134,
   "metadata": {},
   "outputs": [
    {
     "name": "stdout",
     "output_type": "stream",
     "text": [
      "Iteração 0\n",
      "Iteração 1\n",
      "Iteração 2\n",
      "Sistema é seguro\n"
     ]
    }
   ],
   "source": [
    "# Execução do PDR\n",
    "verificar_pdr(condicao_inicial, trans, condicao_erro)"
   ]
  }
 ],
 "metadata": {
  "language_info": {
   "name": "python"
  }
 },
 "nbformat": 4,
 "nbformat_minor": 2
}
